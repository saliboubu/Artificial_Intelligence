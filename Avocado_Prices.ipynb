{
  "nbformat": 4,
  "nbformat_minor": 0,
  "metadata": {
    "colab": {
      "name": "Avocado Prices.ipynb",
      "provenance": [],
      "collapsed_sections": []
    },
    "kernelspec": {
      "name": "python3",
      "display_name": "Python 3"
    }
  },
  "cells": [
    {
      "cell_type": "markdown",
      "metadata": {
        "id": "zWc5yO44Rmzx",
        "colab_type": "text"
      },
      "source": [
        "# Avocado Prices\n",
        "\n",
        "En este ejercicio vamos a resolver el retor de *Avocado Prices* planteado en [https://www.kaggle.com/neuromusic/avocado-prices](https://www.kaggle.com/neuromusic/avocado-prices).\n",
        "\n",
        "El objetivo es ejecutar una regresión sobre el atributo `\n",
        "AveragePrice` del conjunto de datos.\n",
        "\n",
        "Puedes cargar el conjunto de datos descargando desde Kaggle o utilizando la siguiente linea de código:"
      ]
    },
    {
      "cell_type": "markdown",
      "metadata": {
        "id": "iRiyMeyrS1Lh",
        "colab_type": "text"
      },
      "source": [
        "Para asgurarnos de que los resultados son comparables, vamos a utlizar siempre todos la misma semilla siempre que se generen números aleatorios:\n",
        "**seed = 43**"
      ]
    },
    {
      "cell_type": "markdown",
      "metadata": {
        "id": "1vZOhMjNS_r2",
        "colab_type": "text"
      },
      "source": [
        "Las medidas de calidad que debemos minimizar son las siguientes:\n",
        "\n",
        "- [`sklearn.metrics.mean_absolute_error`](https://scikit-learn.org/stable/modules/generated/sklearn.metrics.mean_absolute_error.html)\n",
        "- [`sklearn.metrics.mean_squared_error`](https://scikit-learn.org/stable/modules/generated/sklearn.metrics.mean_squared_error.html)\n",
        "\n",
        "Para calcularlas, debemos dividir el conjunto de datos en conjuntos de entrenamiento y test mediante la función [`train_test_split`](https://scikit-learn.org/stable/modules/generated/sklearn.model_selection.train_test_split.html) de `sklearn`. Usaremos un 70% de datos de entrenamiento y un 30% de datos de test."
      ]
    },
    {
      "cell_type": "markdown",
      "metadata": {
        "id": "hMu72angTaqe",
        "colab_type": "text"
      },
      "source": [
        "Ejecuta ahora las regresiones estudiadas para conseguir el menor error posible."
      ]
    },
    {
      "cell_type": "code",
      "metadata": {
        "id": "57DcBZ2DRlgX",
        "colab_type": "code",
        "colab": {}
      },
      "source": [
        "import pandas as pd\n",
        "import numpy as np\n",
        "import random\n",
        "from sklearn import neighbors\n",
        "from sklearn.model_selection import train_test_split\n",
        "from sklearn.metrics import mean_absolute_error, mean_squared_error\n",
        "\n",
        "data = pd.read_csv('https://drive.upm.es/index.php/s/nDoe2mzkOEMb8Fv/download')\n",
        "seed = 43"
      ],
      "execution_count": null,
      "outputs": []
    },
    {
      "cell_type": "markdown",
      "metadata": {
        "id": "3ne3QGQ8SGc1",
        "colab_type": "text"
      },
      "source": [
        "PREPROCESAMIENTO DE LOS DATOS\n",
        "\n",
        "1. Comprovar que no hay celdas NaN\n",
        "2. Eliminar toda variable categorica que no influya en el precio\n",
        "3. Convertir variables categoricas a continuas si influyen en el precio\n"
      ]
    },
    {
      "cell_type": "code",
      "metadata": {
        "id": "oKSDeh9uS5q4",
        "colab_type": "code",
        "colab": {}
      },
      "source": [
        "data_nan = data.isnull().any(axis=1)\n",
        "#data_nan #No hay elementos nulos o NaN"
      ],
      "execution_count": null,
      "outputs": []
    },
    {
      "cell_type": "code",
      "metadata": {
        "id": "g55VL9kBSFsG",
        "colab_type": "code",
        "colab": {}
      },
      "source": [
        "data_clean = data\n",
        "\n",
        "obj_data_clean = data_clean.select_dtypes(include=['object']).copy()\n",
        "#obj_data_clean"
      ],
      "execution_count": null,
      "outputs": []
    },
    {
      "cell_type": "code",
      "metadata": {
        "id": "Y1FjnbY3JuJ-",
        "colab_type": "code",
        "colab": {
          "base_uri": "https://localhost:8080/",
          "height": 221
        },
        "outputId": "238d4e0b-9550-4f7e-c515-f5fc3e4738a2"
      },
      "source": [
        "Y = data['AveragePrice']\n",
        "Y"
      ],
      "execution_count": null,
      "outputs": [
        {
          "output_type": "execute_result",
          "data": {
            "text/plain": [
              "0        1.33\n",
              "1        1.35\n",
              "2        0.93\n",
              "3        1.08\n",
              "4        1.28\n",
              "         ... \n",
              "18244    1.63\n",
              "18245    1.71\n",
              "18246    1.87\n",
              "18247    1.93\n",
              "18248    1.62\n",
              "Name: AveragePrice, Length: 18249, dtype: float64"
            ]
          },
          "metadata": {
            "tags": []
          },
          "execution_count": 4
        }
      ]
    },
    {
      "cell_type": "code",
      "metadata": {
        "id": "jUY7ff47VIaO",
        "colab_type": "code",
        "colab": {}
      },
      "source": [
        "data_clean = data_clean.drop(['Date', 'year', 'AveragePrice', 'Unnamed: 0'], axis = 1) #Borrrar Date, Year, Unnamed0 y AveragePrice"
      ],
      "execution_count": null,
      "outputs": []
    },
    {
      "cell_type": "code",
      "metadata": {
        "id": "ei6tmvNnVSsg",
        "colab_type": "code",
        "colab": {
          "base_uri": "https://localhost:8080/",
          "height": 419
        },
        "outputId": "d066b47a-be49-4cf1-edbe-c996b05ed856"
      },
      "source": [
        "obj_data_clean = data_clean.select_dtypes(include=['object']).copy()\n",
        "obj_data_clean"
      ],
      "execution_count": null,
      "outputs": [
        {
          "output_type": "execute_result",
          "data": {
            "text/html": [
              "<div>\n",
              "<style scoped>\n",
              "    .dataframe tbody tr th:only-of-type {\n",
              "        vertical-align: middle;\n",
              "    }\n",
              "\n",
              "    .dataframe tbody tr th {\n",
              "        vertical-align: top;\n",
              "    }\n",
              "\n",
              "    .dataframe thead th {\n",
              "        text-align: right;\n",
              "    }\n",
              "</style>\n",
              "<table border=\"1\" class=\"dataframe\">\n",
              "  <thead>\n",
              "    <tr style=\"text-align: right;\">\n",
              "      <th></th>\n",
              "      <th>type</th>\n",
              "      <th>region</th>\n",
              "    </tr>\n",
              "  </thead>\n",
              "  <tbody>\n",
              "    <tr>\n",
              "      <th>0</th>\n",
              "      <td>conventional</td>\n",
              "      <td>Albany</td>\n",
              "    </tr>\n",
              "    <tr>\n",
              "      <th>1</th>\n",
              "      <td>conventional</td>\n",
              "      <td>Albany</td>\n",
              "    </tr>\n",
              "    <tr>\n",
              "      <th>2</th>\n",
              "      <td>conventional</td>\n",
              "      <td>Albany</td>\n",
              "    </tr>\n",
              "    <tr>\n",
              "      <th>3</th>\n",
              "      <td>conventional</td>\n",
              "      <td>Albany</td>\n",
              "    </tr>\n",
              "    <tr>\n",
              "      <th>4</th>\n",
              "      <td>conventional</td>\n",
              "      <td>Albany</td>\n",
              "    </tr>\n",
              "    <tr>\n",
              "      <th>...</th>\n",
              "      <td>...</td>\n",
              "      <td>...</td>\n",
              "    </tr>\n",
              "    <tr>\n",
              "      <th>18244</th>\n",
              "      <td>organic</td>\n",
              "      <td>WestTexNewMexico</td>\n",
              "    </tr>\n",
              "    <tr>\n",
              "      <th>18245</th>\n",
              "      <td>organic</td>\n",
              "      <td>WestTexNewMexico</td>\n",
              "    </tr>\n",
              "    <tr>\n",
              "      <th>18246</th>\n",
              "      <td>organic</td>\n",
              "      <td>WestTexNewMexico</td>\n",
              "    </tr>\n",
              "    <tr>\n",
              "      <th>18247</th>\n",
              "      <td>organic</td>\n",
              "      <td>WestTexNewMexico</td>\n",
              "    </tr>\n",
              "    <tr>\n",
              "      <th>18248</th>\n",
              "      <td>organic</td>\n",
              "      <td>WestTexNewMexico</td>\n",
              "    </tr>\n",
              "  </tbody>\n",
              "</table>\n",
              "<p>18249 rows × 2 columns</p>\n",
              "</div>"
            ],
            "text/plain": [
              "               type            region\n",
              "0      conventional            Albany\n",
              "1      conventional            Albany\n",
              "2      conventional            Albany\n",
              "3      conventional            Albany\n",
              "4      conventional            Albany\n",
              "...             ...               ...\n",
              "18244       organic  WestTexNewMexico\n",
              "18245       organic  WestTexNewMexico\n",
              "18246       organic  WestTexNewMexico\n",
              "18247       organic  WestTexNewMexico\n",
              "18248       organic  WestTexNewMexico\n",
              "\n",
              "[18249 rows x 2 columns]"
            ]
          },
          "metadata": {
            "tags": []
          },
          "execution_count": 6
        }
      ]
    },
    {
      "cell_type": "code",
      "metadata": {
        "id": "yivMcwDiTtqb",
        "colab_type": "code",
        "colab": {}
      },
      "source": [
        "#Desde Scikit podemos substituir los valores categoricos por numéricos\n",
        "from sklearn.preprocessing import LabelEncoder\n",
        "lb_make = LabelEncoder()\n",
        "\n",
        "def new_category():\n",
        "  for etiqueta in obj_data_clean:\n",
        "    data_clean[etiqueta] = lb_make.fit_transform(obj_data_clean[etiqueta])\n",
        "new_category()"
      ],
      "execution_count": null,
      "outputs": []
    },
    {
      "cell_type": "markdown",
      "metadata": {
        "id": "H2uETkBYdx3p",
        "colab_type": "text"
      },
      "source": [
        "ESTANDARIZAR DATOS - NORMALIZACIÓN "
      ]
    },
    {
      "cell_type": "code",
      "metadata": {
        "id": "W8R4UMLksBgw",
        "colab_type": "code",
        "colab": {}
      },
      "source": [
        "def normalize(dataset):\n",
        "    dataNorm=((dataset-dataset.min())/(dataset.max()-dataset.min()))*1\n",
        "    dataNorm[\"region\"]=dataset[\"region\"]\n",
        "    return dataNorm"
      ],
      "execution_count": null,
      "outputs": []
    },
    {
      "cell_type": "code",
      "metadata": {
        "id": "xI1XLYizsJqd",
        "colab_type": "code",
        "colab": {
          "base_uri": "https://localhost:8080/",
          "height": 419
        },
        "outputId": "0d050ea1-ecbc-4554-ce71-56c88d160ed4"
      },
      "source": [
        "X = normalize(data_clean)\n",
        "X"
      ],
      "execution_count": null,
      "outputs": [
        {
          "output_type": "execute_result",
          "data": {
            "text/html": [
              "<div>\n",
              "<style scoped>\n",
              "    .dataframe tbody tr th:only-of-type {\n",
              "        vertical-align: middle;\n",
              "    }\n",
              "\n",
              "    .dataframe tbody tr th {\n",
              "        vertical-align: top;\n",
              "    }\n",
              "\n",
              "    .dataframe thead th {\n",
              "        text-align: right;\n",
              "    }\n",
              "</style>\n",
              "<table border=\"1\" class=\"dataframe\">\n",
              "  <thead>\n",
              "    <tr style=\"text-align: right;\">\n",
              "      <th></th>\n",
              "      <th>Total Volume</th>\n",
              "      <th>4046</th>\n",
              "      <th>4225</th>\n",
              "      <th>4770</th>\n",
              "      <th>Total Bags</th>\n",
              "      <th>Small Bags</th>\n",
              "      <th>Large Bags</th>\n",
              "      <th>XLarge Bags</th>\n",
              "      <th>type</th>\n",
              "      <th>region</th>\n",
              "    </tr>\n",
              "  </thead>\n",
              "  <tbody>\n",
              "    <tr>\n",
              "      <th>0</th>\n",
              "      <td>0.001026</td>\n",
              "      <td>0.000046</td>\n",
              "      <td>0.002660</td>\n",
              "      <td>0.000019</td>\n",
              "      <td>0.000449</td>\n",
              "      <td>0.000643</td>\n",
              "      <td>0.000016</td>\n",
              "      <td>0.0</td>\n",
              "      <td>0.0</td>\n",
              "      <td>0</td>\n",
              "    </tr>\n",
              "    <tr>\n",
              "      <th>1</th>\n",
              "      <td>0.000877</td>\n",
              "      <td>0.000030</td>\n",
              "      <td>0.002181</td>\n",
              "      <td>0.000023</td>\n",
              "      <td>0.000491</td>\n",
              "      <td>0.000703</td>\n",
              "      <td>0.000017</td>\n",
              "      <td>0.0</td>\n",
              "      <td>0.0</td>\n",
              "      <td>0</td>\n",
              "    </tr>\n",
              "    <tr>\n",
              "      <th>2</th>\n",
              "      <td>0.001890</td>\n",
              "      <td>0.000035</td>\n",
              "      <td>0.005332</td>\n",
              "      <td>0.000051</td>\n",
              "      <td>0.000420</td>\n",
              "      <td>0.000601</td>\n",
              "      <td>0.000018</td>\n",
              "      <td>0.0</td>\n",
              "      <td>0.0</td>\n",
              "      <td>0</td>\n",
              "    </tr>\n",
              "    <tr>\n",
              "      <th>3</th>\n",
              "      <td>0.001262</td>\n",
              "      <td>0.000050</td>\n",
              "      <td>0.003516</td>\n",
              "      <td>0.000029</td>\n",
              "      <td>0.000300</td>\n",
              "      <td>0.000424</td>\n",
              "      <td>0.000023</td>\n",
              "      <td>0.0</td>\n",
              "      <td>0.0</td>\n",
              "      <td>0</td>\n",
              "    </tr>\n",
              "    <tr>\n",
              "      <th>4</th>\n",
              "      <td>0.000815</td>\n",
              "      <td>0.000041</td>\n",
              "      <td>0.002142</td>\n",
              "      <td>0.000030</td>\n",
              "      <td>0.000319</td>\n",
              "      <td>0.000447</td>\n",
              "      <td>0.000035</td>\n",
              "      <td>0.0</td>\n",
              "      <td>0.0</td>\n",
              "      <td>0</td>\n",
              "    </tr>\n",
              "    <tr>\n",
              "      <th>...</th>\n",
              "      <td>...</td>\n",
              "      <td>...</td>\n",
              "      <td>...</td>\n",
              "      <td>...</td>\n",
              "      <td>...</td>\n",
              "      <td>...</td>\n",
              "      <td>...</td>\n",
              "      <td>...</td>\n",
              "      <td>...</td>\n",
              "      <td>...</td>\n",
              "    </tr>\n",
              "    <tr>\n",
              "      <th>18244</th>\n",
              "      <td>0.000272</td>\n",
              "      <td>0.000090</td>\n",
              "      <td>0.000075</td>\n",
              "      <td>0.000000</td>\n",
              "      <td>0.000697</td>\n",
              "      <td>0.000976</td>\n",
              "      <td>0.000076</td>\n",
              "      <td>0.0</td>\n",
              "      <td>1.0</td>\n",
              "      <td>53</td>\n",
              "    </tr>\n",
              "    <tr>\n",
              "      <th>18245</th>\n",
              "      <td>0.000221</td>\n",
              "      <td>0.000052</td>\n",
              "      <td>0.000168</td>\n",
              "      <td>0.000000</td>\n",
              "      <td>0.000478</td>\n",
              "      <td>0.000668</td>\n",
              "      <td>0.000057</td>\n",
              "      <td>0.0</td>\n",
              "      <td>1.0</td>\n",
              "      <td>53</td>\n",
              "    </tr>\n",
              "    <tr>\n",
              "      <th>18246</th>\n",
              "      <td>0.000219</td>\n",
              "      <td>0.000052</td>\n",
              "      <td>0.000120</td>\n",
              "      <td>0.000286</td>\n",
              "      <td>0.000485</td>\n",
              "      <td>0.000699</td>\n",
              "      <td>0.000007</td>\n",
              "      <td>0.0</td>\n",
              "      <td>1.0</td>\n",
              "      <td>53</td>\n",
              "    </tr>\n",
              "    <tr>\n",
              "      <th>18247</th>\n",
              "      <td>0.000258</td>\n",
              "      <td>0.000067</td>\n",
              "      <td>0.000146</td>\n",
              "      <td>0.000286</td>\n",
              "      <td>0.000566</td>\n",
              "      <td>0.000816</td>\n",
              "      <td>0.000009</td>\n",
              "      <td>0.0</td>\n",
              "      <td>1.0</td>\n",
              "      <td>53</td>\n",
              "    </tr>\n",
              "    <tr>\n",
              "      <th>18248</th>\n",
              "      <td>0.000278</td>\n",
              "      <td>0.000127</td>\n",
              "      <td>0.000115</td>\n",
              "      <td>0.000088</td>\n",
              "      <td>0.000620</td>\n",
              "      <td>0.000896</td>\n",
              "      <td>0.000005</td>\n",
              "      <td>0.0</td>\n",
              "      <td>1.0</td>\n",
              "      <td>53</td>\n",
              "    </tr>\n",
              "  </tbody>\n",
              "</table>\n",
              "<p>18249 rows × 10 columns</p>\n",
              "</div>"
            ],
            "text/plain": [
              "       Total Volume      4046      4225  ...  XLarge Bags  type  region\n",
              "0          0.001026  0.000046  0.002660  ...          0.0   0.0       0\n",
              "1          0.000877  0.000030  0.002181  ...          0.0   0.0       0\n",
              "2          0.001890  0.000035  0.005332  ...          0.0   0.0       0\n",
              "3          0.001262  0.000050  0.003516  ...          0.0   0.0       0\n",
              "4          0.000815  0.000041  0.002142  ...          0.0   0.0       0\n",
              "...             ...       ...       ...  ...          ...   ...     ...\n",
              "18244      0.000272  0.000090  0.000075  ...          0.0   1.0      53\n",
              "18245      0.000221  0.000052  0.000168  ...          0.0   1.0      53\n",
              "18246      0.000219  0.000052  0.000120  ...          0.0   1.0      53\n",
              "18247      0.000258  0.000067  0.000146  ...          0.0   1.0      53\n",
              "18248      0.000278  0.000127  0.000115  ...          0.0   1.0      53\n",
              "\n",
              "[18249 rows x 10 columns]"
            ]
          },
          "metadata": {
            "tags": []
          },
          "execution_count": 9
        }
      ]
    },
    {
      "cell_type": "markdown",
      "metadata": {
        "id": "1UDggfKTThZT",
        "colab_type": "text"
      },
      "source": [
        "DIVISIÓN DE DATOS"
      ]
    },
    {
      "cell_type": "code",
      "metadata": {
        "id": "BbOiBK4PSqDc",
        "colab_type": "code",
        "colab": {}
      },
      "source": [
        "x_train, x_test, y_train, y_test = train_test_split(X,Y, test_size = 0.3, train_size=0.7, shuffle = True, random_state = seed) #Elige aleatoriamente que filas se concentran en test y train"
      ],
      "execution_count": null,
      "outputs": []
    },
    {
      "cell_type": "markdown",
      "metadata": {
        "id": "6dCmqiajyN9m",
        "colab_type": "text"
      },
      "source": [
        "REGRESIONES"
      ]
    },
    {
      "cell_type": "code",
      "metadata": {
        "id": "H70QJhzSIw_u",
        "colab_type": "code",
        "colab": {
          "base_uri": "https://localhost:8080/",
          "height": 219
        },
        "outputId": "ec25058f-0dac-497f-dba0-c39ac720ee3a"
      },
      "source": [
        "import seaborn as sns\n",
        "variables = x_train.columns\n",
        "sns.pairplot(pd.concat([x_train,y_train], axis=1), x_vars=x_train.columns, y_vars='AveragePrice')"
      ],
      "execution_count": null,
      "outputs": [
        {
          "output_type": "stream",
          "text": [
            "/usr/local/lib/python3.6/dist-packages/statsmodels/tools/_testing.py:19: FutureWarning: pandas.util.testing is deprecated. Use the functions in the public API at pandas.testing instead.\n",
            "  import pandas.util.testing as tm\n"
          ],
          "name": "stderr"
        },
        {
          "output_type": "execute_result",
          "data": {
            "text/plain": [
              "<seaborn.axisgrid.PairGrid at 0x7f6fe89fc710>"
            ]
          },
          "metadata": {
            "tags": []
          },
          "execution_count": 11
        },
        {
          "output_type": "display_data",
          "data": {
            "image/png": "[encoded data removed]",
            "text/plain": [
              "<Figure size 1800x180 with 10 Axes>"
            ]
          },
          "metadata": {
            "tags": [],
            "needs_background": "light"
          }
        }
      ]
    },
    {
      "cell_type": "markdown",
      "metadata": {
        "id": "4QDua7tnQH2A",
        "colab_type": "text"
      },
      "source": [
        "REGRESIÓN LINEAL"
      ]
    },
    {
      "cell_type": "code",
      "metadata": {
        "id": "RhSn5_l6QHMr",
        "colab_type": "code",
        "colab": {}
      },
      "source": [
        "mae = []\n",
        "mse = []\n",
        "\n",
        "from itertools import combinations\n",
        "from sklearn.linear_model import LinearRegression\n",
        "\n",
        "combinaciones = map(lambda r: combinations(variables, r), range(1, len(variables) + 1))\n",
        "\n",
        "flatten = lambda l: [item for sublist in l for item in sublist]\n",
        "combinaciones = flatten(combinaciones)\n",
        "\n",
        "for c in combinaciones:\n",
        "    reg = LinearRegression()\n",
        "\n",
        "    if len(c)<2:\n",
        "        xs = np.array(x_train.loc[:,c]).reshape(-1, 1)\n",
        "    else:\n",
        "        xs = x_train.loc[:,c]\n",
        "    reg.fit(xs, y_train)\n",
        "    mae.append(mean_absolute_error(y_train, reg.predict(xs)))\n",
        "    mse.append(mean_squared_error(y_train, reg.predict(xs)))\n",
        "    \n",
        "results_linear = pd.DataFrame({\n",
        "    'Combinación': combinaciones,\n",
        "    'MAE': mae,\n",
        "    'MSE': mse\n",
        "})"
      ],
      "execution_count": null,
      "outputs": []
    },
    {
      "cell_type": "code",
      "metadata": {
        "id": "WtFAEDUBQLna",
        "colab_type": "code",
        "colab": {}
      },
      "source": [
        "min_linear = results_linear.min()\n",
        "min_linear"
      ],
      "execution_count": null,
      "outputs": []
    },
    {
      "cell_type": "markdown",
      "metadata": {
        "id": "IrVtL2DW8mwA",
        "colab_type": "text"
      },
      "source": [
        "K NEIGHBOURS"
      ]
    },
    {
      "cell_type": "code",
      "metadata": {
        "id": "Dghbp4EpF9sT",
        "colab_type": "code",
        "colab": {
          "base_uri": "https://localhost:8080/",
          "height": 119
        },
        "outputId": "55d8de19-10cd-403a-be54-cf6ad8c991c7"
      },
      "source": [
        "for i in range(10):\n",
        "    x_train.iloc[:,i] = np.array(x_train.iloc[:,i]).reshape(-1,1)\n",
        "    x_test.iloc[:,i] = np.array(x_test.iloc[:,i]).reshape(-1,1)"
      ],
      "execution_count": null,
      "outputs": [
        {
          "output_type": "stream",
          "text": [
            "/usr/local/lib/python3.6/dist-packages/pandas/core/indexing.py:966: SettingWithCopyWarning: \n",
            "A value is trying to be set on a copy of a slice from a DataFrame.\n",
            "Try using .loc[row_indexer,col_indexer] = value instead\n",
            "\n",
            "See the caveats in the documentation: https://pandas.pydata.org/pandas-docs/stable/user_guide/indexing.html#returning-a-view-versus-a-copy\n",
            "  self.obj[item] = s\n"
          ],
          "name": "stderr"
        }
      ]
    },
    {
      "cell_type": "code",
      "metadata": {
        "id": "IBeiEg4dkGJ0",
        "colab_type": "code",
        "colab": {
          "base_uri": "https://localhost:8080/",
          "height": 119
        },
        "outputId": "d686c00d-4cc0-4379-e59a-24206493e0f3"
      },
      "source": [
        "from sklearn.neighbors import KNeighborsRegressor\n",
        "from sklearn.metrics import mean_absolute_error, mean_squared_error\n",
        "from itertools import combinations\n",
        "n_neighbours = [1,2,3]\n",
        "\n",
        "n_mae = 1\n",
        "n_mse = 1\n",
        "best_mae = np.inf\n",
        "best_mse = np.inf\n",
        "combo = 1\n",
        "\n",
        "variable = x_train.columns\n",
        "combinacion = map(lambda r: combinations(variable, r), range(1, len(variable) + 1))\n",
        "\n",
        "flatten = lambda l: [item for sublist in l for item in sublist]\n",
        "combinacion = flatten(combinacion)\n",
        "\n",
        "for c in combinacion:\n",
        "  for n in n_neighbours:\n",
        "    model = KNeighborsRegressor(n)\n",
        "    model.fit(x_train,y_train)  \n",
        "    mae=mean_absolute_error(y_test, model.predict(x_test))\n",
        "    mse=mean_squared_error(y_test, model.predict(x_test))\n",
        "    #print(\"Vecino:\",n)\n",
        "    #print(\"Combinacion\", c)\n",
        "    #print(\"MAE:\", mae)\n",
        "    #print(\"MSE:\", mse)\n",
        "    if mae<best_mae: #Comparar constantemente mae para obtener el mejor resultado\n",
        "        best_mae = mae\n",
        "        mse_mae = mse\n",
        "        n_mae = n\n",
        "        \n",
        "    if mse<best_mse:\n",
        "        best_mse = mse\n",
        "        mae_mse = mae\n",
        "        best_n_mse = n\n",
        "            \n",
        "print(\"Número de vecinos:\", n_mae)\n",
        "print(\"MAE: \", best_mae)\n",
        "print(\"MSE: \", mse_mae)\n",
        "\n",
        "\n",
        "print(\"Número de vecinos\", n_mse)\n",
        "print(\"MAE: \", mae_mse)\n",
        "print(\"MSE: \", best_mse)        "
      ],
      "execution_count": null,
      "outputs": [
        {
          "output_type": "stream",
          "text": [
            "Número de vecinos: 3\n",
            "MAE:  0.12088523592085235\n",
            "MSE:  0.03193982343987823\n",
            "Número de vecinos 1\n",
            "MAE:  0.12266009132420093\n",
            "MSE:  0.03147084566210046\n"
          ],
          "name": "stdout"
        }
      ]
    },
    {
      "cell_type": "markdown",
      "metadata": {
        "id": "QL38d-JHLaDP",
        "colab_type": "text"
      },
      "source": [
        "RPOVES AMB GAUSSIANA I KNN"
      ]
    },
    {
      "cell_type": "code",
      "metadata": {
        "id": "kAU6RyV9-30D",
        "colab_type": "code",
        "colab": {
          "base_uri": "https://localhost:8080/",
          "height": 85
        },
        "outputId": "967ef1cc-398d-49e1-da04-cca87690ad2b"
      },
      "source": [
        "from sklearn.gaussian_process import GaussianProcessRegressor\n",
        "from sklearn.gaussian_process.kernels import RBF\n",
        "\n",
        "kernel = RBF(10, (0.01, 1e2))\n",
        "alpha_mae = 1\n",
        "alpha_mse = 1\n",
        "best_mae = np.inf\n",
        "best_mse = np.inf\n",
        "\n",
        "#for c in combinacion:\n",
        "for i, alpha in zip([0,1], [0.02, 0.05]):\n",
        " model = GaussianProcessRegressor(alpha=alpha, kernel=kernel)\n",
        " model.fit(x_test, y_test)\n",
        " mae = mean_absolute_error(y_test, model.predict(x_test))\n",
        " mse = mean_squared_error(y_test, model.predict(x_test))\n",
        " if mae<best_mae: #Comparar constantemente mae para obtener el mejor resultado\n",
        "  best_mae = mae\n",
        "  mse_mae = mse\n",
        "  alpha_mae = alpha\n",
        "        \n",
        " if mse<best_mse:\n",
        "  best_mse = mse\n",
        "  mae_mse = mae\n",
        "  best_n_mse = n\n",
        "  alpha_mse = alpha      \n",
        "        \n",
        "print(\"Mejor MAE: \", best_mae)\n",
        "print(\"MSE: \", mse_mae)\n",
        "\n",
        "print(\"MAE: \", mae_mse)\n",
        "print(\"Mejor MSE: \", best_mse) "
      ],
      "execution_count": null,
      "outputs": [
        {
          "output_type": "stream",
          "text": [
            "Mejor MAE:  0.1336555130956411\n",
            "MSE:  0.040019265565535866\n",
            "MAE:  0.1336555130956411\n",
            "Mejor MSE:  0.040019265565535866\n"
          ],
          "name": "stdout"
        }
      ]
    },
    {
      "cell_type": "code",
      "metadata": {
        "id": "V30TOqhlIqvD",
        "colab_type": "code",
        "cellView": "both",
        "colab": {
          "base_uri": "https://localhost:8080/",
          "height": 119
        },
        "outputId": "0752d23e-1d6b-455c-952c-7d0249fd0355"
      },
      "source": [
        "from sklearn.neighbors import KNeighborsRegressor\n",
        "from sklearn.metrics import mean_absolute_error, mean_squared_error\n",
        "from itertools import combinations\n",
        "n_neighbours = [1,2,3,4,5,6,7,8,9,10,11,12,13,14,15,16]\n",
        "\n",
        "n_mae = 1\n",
        "n_mse = 1\n",
        "best_mae = np.inf\n",
        "best_mse = np.inf\n",
        "\n",
        "variable = x_train.columns\n",
        "combinacion = map(lambda r: combinations(variable, r), range(1, len(variable) + 1))\n",
        "\n",
        "flatten = lambda l: [item for sublist in l for item in sublist]\n",
        "combinacion = flatten(combinacion)\n",
        "\n",
        "#for c in combinacion:\n",
        "for n in n_neighbours:\n",
        " model = KNeighborsRegressor(n)\n",
        " model.fit(x_train,y_train)  \n",
        " mae=mean_absolute_error(y_test, model.predict(x_test))\n",
        " mse=mean_squared_error(y_test, model.predict(x_test))\n",
        "    #print(\"Vecino:\",n)\n",
        "    #print(\"Combinacion\", c)\n",
        "    #print(\"MAE:\", mae)\n",
        "    #print(\"MSE:\", mse)\n",
        " if mae<best_mae: #Comparar constantemente mae para obtener el mejor resultado\n",
        "   best_mae = mae\n",
        "   mse_mae = mse\n",
        "   n_mae = n\n",
        " if mse<best_mse:\n",
        "   best_mse = mse\n",
        "   mae_mse = mae\n",
        "   best_n_mse = n\n",
        "\n",
        "print(\"Vecinos MAE:\", n_mae)\n",
        "print(\"MAE: \", best_mae)\n",
        "print(\"MSE: \", mse_mae)\n",
        "\n",
        "print(\"Vecinos MSE:\", n_mse)\n",
        "print(\"MAE: \", mae_mse)\n",
        "print(\"MSE: \", best_mse) "
      ],
      "execution_count": null,
      "outputs": [
        {
          "output_type": "stream",
          "text": [
            "Vecinos MAE: 3\n",
            "MAE:  0.12088523592085235\n",
            "MSE:  0.03193982343987823\n",
            "Vecinos MSE: 1\n",
            "MAE:  0.12266009132420093\n",
            "MSE:  0.03147084566210046\n"
          ],
          "name": "stdout"
        }
      ]
    }
  ]
}